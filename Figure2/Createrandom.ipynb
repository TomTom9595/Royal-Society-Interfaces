{
 "cells": [
  {
   "cell_type": "code",
   "execution_count": 8,
   "id": "5fc031ca-9aae-4d72-a144-9020bf2c07aa",
   "metadata": {},
   "outputs": [],
   "source": [
    "import random\n",
    "Bases = [\"A\",\"C\",\"G\",\"T\"]\n",
    "with open('N50.txt', 'a') as fp:\n",
    "    for j in range(0,300000):\n",
    "        for i in range(0,50):\n",
    "            fp.write(str(random.choice(Bases)))\n",
    "        fp.write(\"\\n\")\n",
    "    fp.close()"
   ]
  },
  {
   "cell_type": "code",
   "execution_count": null,
   "id": "f1056522-5fdd-446d-95fb-dd7447f10676",
   "metadata": {},
   "outputs": [],
   "source": []
  }
 ],
 "metadata": {
  "kernelspec": {
   "display_name": "Python 3",
   "language": "python",
   "name": "python3"
  },
  "language_info": {
   "codemirror_mode": {
    "name": "ipython",
    "version": 3
   },
   "file_extension": ".py",
   "mimetype": "text/x-python",
   "name": "python",
   "nbconvert_exporter": "python",
   "pygments_lexer": "ipython3",
   "version": "3.8.5"
  }
 },
 "nbformat": 4,
 "nbformat_minor": 5
}
