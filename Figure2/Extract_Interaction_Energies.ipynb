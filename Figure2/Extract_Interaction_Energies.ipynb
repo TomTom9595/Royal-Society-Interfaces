{
 "cells": [
  {
   "cell_type": "code",
   "execution_count": 1,
   "id": "adf1c2e0-53ee-4724-ae90-a2c11d8a8a3d",
   "metadata": {},
   "outputs": [],
   "source": [
    "# Header\n",
    "from nupack import *\n",
    "import numpy as np\n",
    "config.parallelism = True\n",
    "\n",
    "Model1 = Model(material='dna', celsius=29, sodium=0.1, magnesium=0.0125) #Define model used for NUPACK calculations"
   ]
  },
  {
   "cell_type": "code",
   "execution_count": null,
   "id": "7fb3f6dd-600d-4a66-9c57-32ce15fbda84",
   "metadata": {},
   "outputs": [],
   "source": [
    "# Import strands\n",
    "Strands_list = []\n",
    "Interfering = open(\"N25.txt\")\n",
    "for line in Interfering:\n",
    "    Strands_list.append(line.rstrip())\n",
    "Interfering.close()\n",
    "Nlength = 25 #Number of bases of each interfering strand (fixed in our case)"
   ]
  },
  {
   "cell_type": "code",
   "execution_count": null,
   "id": "beaf1c9e-4de7-40a9-b013-89bca7461590",
   "metadata": {},
   "outputs": [],
   "source": [
    "# Define strands/complexes and tasks \n",
    "Invader_Strand = Strand('CGGAATAAGGCAAGATAAGAACAGATACAT', name='Invader')\n",
    "Interfering_free_energy_list = []\n",
    "results = open(\"Results25.txt\", 'a')\n",
    "for i in range(len(Strands_list)):\n",
    "    Interfering_Strand = Strand(Strands_list[i], name ='Interfering_Strand')\n",
    "    Interfering_Invader_Complex = Complex([Interfering_Strand, Invader_Strand], name='Interfering_Invader_Complex')\n",
    "    Interfering_Complex = Complex([Interfering_Strand], name='Interfering_Complex')\n",
    "    Invader_Complex = Complex([Invader_Strand], name='Invader_Complex')\n",
    "    InteractionTube = Tube({Invader_Strand: 20e-9, Interfering_Strand: 1e-6}, complexes=SetSpec(include=[Interfering_Invader_Complex, Interfering_Complex, Invader_Complex]), name='InteractionTube')\n",
    "    my_results = tube_analysis([InteractionTube], model=Model1, compute=['mfe'])\n",
    "    Interfering_free_energy_list.append(str(my_results[Interfering_Complex].free_energy))\n",
    "    results.write(str(Interfering_Strand) + '\\n' +str(my_results[Interfering_Invader_Complex].free_energy) +'\\n'+ str(my_results[Interfering_Invader_Complex].mfe[0].structure) +'\\n'+'\\n')\n",
    "results.close()"
   ]
  },
  {
   "cell_type": "code",
   "execution_count": null,
   "id": "03b2311a-a169-4bcf-8cd7-18c9febc416f",
   "metadata": {},
   "outputs": [],
   "source": [
    "# Calculate Energies\n",
    "Results_list = []\n",
    "\n",
    "results = open(\"Results25.txt\")\n",
    "for line in results:\n",
    "    Results_list.append(line.rstrip())\n",
    "results.close()\n",
    "\n",
    "Energies_list=[]\n",
    "\n",
    "for i in range(len(Results_list[1::4])):\n",
    "    Energies_list.append(float(Results_list[1::4][i])-float(Interfering_free_energy_list[i])-my_results[Invader_Complex].free_energy)\n",
    "\n",
    "Complexes_ddG = open(\"Complex_ddG25.txt\", 'a')\n",
    "\n",
    "for i in range(len(Energies_list)):\n",
    "    Complexes_ddG.write(str(\"{:.2f}\".format(Energies_list[i]))+'\\n'),\n",
    "Complexes_ddG.close()"
   ]
  }
 ],
 "metadata": {
  "kernelspec": {
   "display_name": "Python 3",
   "language": "python",
   "name": "python3"
  },
  "language_info": {
   "codemirror_mode": {
    "name": "ipython",
    "version": 3
   },
   "file_extension": ".py",
   "mimetype": "text/x-python",
   "name": "python",
   "nbconvert_exporter": "python",
   "pygments_lexer": "ipython3",
   "version": "3.8.5"
  }
 },
 "nbformat": 4,
 "nbformat_minor": 5
}
