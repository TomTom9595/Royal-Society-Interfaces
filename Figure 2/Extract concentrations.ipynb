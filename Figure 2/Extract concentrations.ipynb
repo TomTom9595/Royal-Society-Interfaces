{
 "cells": [
  {
   "cell_type": "code",
   "execution_count": 1,
   "id": "5dc89f3c-5f34-4bc2-a087-8f24acbabccc",
   "metadata": {},
   "outputs": [],
   "source": [
    "# Header\n",
    "from nupack import *\n",
    "import numpy as np\n",
    "config.parallelism = True\n",
    "\n",
    "Model1 = Model(material='dna', celsius=29, sodium=0.1, magnesium=0.0125) #Define model used for NUPACK calculations"
   ]
  },
  {
   "cell_type": "code",
   "execution_count": 2,
   "id": "b704e2a1-b09f-4fa4-95d1-f974268093a2",
   "metadata": {},
   "outputs": [],
   "source": [
    "# Import strands\n",
    "Strands_list = []\n",
    "Interfering = open(\"N25.txt\")\n",
    "for line in Interfering:\n",
    "    Strands_list.append(line.rstrip())\n",
    "Interfering.close()\n",
    "Nlength = 25 #Number of bases of each interfering strand (fixed in our case)"
   ]
  },
  {
   "cell_type": "code",
   "execution_count": null,
   "id": "e2eed01c-4cff-46e9-9a0a-99900ffed868",
   "metadata": {},
   "outputs": [],
   "source": [
    "# Define strands/complexes and tasks \n",
    "Invader_Strand = Strand('CGGAATAAGGCAAGATAAGAACAGATACAT', name='Invader')\n",
    "results = open(\"Concentrations25.txt\", 'a')\n",
    "for i in range(len(Strands_list)):\n",
    "    Interfering_Strand = Strand(Strands_list[i], name ='Interfering_Strand')\n",
    "    Interfering_Invader_Complex = Complex([Interfering_Strand, Invader_Strand], name='Interfering_Invader_Complex')\n",
    "    Interfering_Complex = Complex([Interfering_Strand], name='Interfering_Complex')\n",
    "    Invader_Complex = Complex([Invader_Strand], name='Invader_Complex')\n",
    "    InteractionTube = Tube({Invader_Strand: 0.25e-6, Interfering_Strand: 2.5e-6}, complexes=SetSpec(include=[Interfering_Invader_Complex, Interfering_Complex, Invader_Complex]), name='InteractionTube')\n",
    "    my_results = tube_analysis([InteractionTube], model=Model1, compute=['mfe'])\n",
    "    Interaction_result = my_results[InteractionTube] \n",
    "    for my_complex, concentration in Interaction_result.complex_concentrations.items():\n",
    "        if my_complex.name == 'Interfering_Invader_Complex':\n",
    "            results.write(str(\"{:.2f}\".format(concentration*np.power(10,9))+'\\n'))\n",
    "results.close()"
   ]
  },
  {
   "cell_type": "code",
   "execution_count": null,
   "id": "67fc87d2-dbed-423f-978e-cd55838078f9",
   "metadata": {},
   "outputs": [],
   "source": []
  }
 ],
 "metadata": {
  "kernelspec": {
   "display_name": "Python 3",
   "language": "python",
   "name": "python3"
  },
  "language_info": {
   "codemirror_mode": {
    "name": "ipython",
    "version": 3
   },
   "file_extension": ".py",
   "mimetype": "text/x-python",
   "name": "python",
   "nbconvert_exporter": "python",
   "pygments_lexer": "ipython3",
   "version": "3.8.5"
  }
 },
 "nbformat": 4,
 "nbformat_minor": 5
}
